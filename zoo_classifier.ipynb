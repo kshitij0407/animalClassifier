{
 "cells": [
  {
   "cell_type": "code",
   "execution_count": 1,
   "source": [
    "pip install seaborn"
   ],
   "outputs": [
    {
     "output_type": "stream",
     "name": "stdout",
     "text": [
      "Requirement already satisfied: seaborn in /Library/Frameworks/Python.framework/Versions/3.10/lib/python3.10/site-packages (0.12.2)\n",
      "Requirement already satisfied: pandas>=0.25 in /Library/Frameworks/Python.framework/Versions/3.10/lib/python3.10/site-packages (from seaborn) (2.0.0)\n",
      "Requirement already satisfied: numpy!=1.24.0,>=1.17 in /Library/Frameworks/Python.framework/Versions/3.10/lib/python3.10/site-packages (from seaborn) (1.23.5)\n",
      "Requirement already satisfied: matplotlib!=3.6.1,>=3.1 in /Library/Frameworks/Python.framework/Versions/3.10/lib/python3.10/site-packages (from seaborn) (3.7.1)\n",
      "Requirement already satisfied: python-dateutil>=2.7 in /Users/krish/Library/Python/3.10/lib/python/site-packages (from matplotlib!=3.6.1,>=3.1->seaborn) (2.8.2)\n",
      "Requirement already satisfied: kiwisolver>=1.0.1 in /Library/Frameworks/Python.framework/Versions/3.10/lib/python3.10/site-packages (from matplotlib!=3.6.1,>=3.1->seaborn) (1.4.4)\n",
      "Requirement already satisfied: pyparsing>=2.3.1 in /Library/Frameworks/Python.framework/Versions/3.10/lib/python3.10/site-packages (from matplotlib!=3.6.1,>=3.1->seaborn) (3.0.9)\n",
      "Requirement already satisfied: cycler>=0.10 in /Library/Frameworks/Python.framework/Versions/3.10/lib/python3.10/site-packages (from matplotlib!=3.6.1,>=3.1->seaborn) (0.11.0)\n",
      "Requirement already satisfied: fonttools>=4.22.0 in /Library/Frameworks/Python.framework/Versions/3.10/lib/python3.10/site-packages (from matplotlib!=3.6.1,>=3.1->seaborn) (4.39.3)\n",
      "Requirement already satisfied: packaging>=20.0 in /Library/Frameworks/Python.framework/Versions/3.10/lib/python3.10/site-packages (from matplotlib!=3.6.1,>=3.1->seaborn) (23.1)\n",
      "Requirement already satisfied: pillow>=6.2.0 in /Library/Frameworks/Python.framework/Versions/3.10/lib/python3.10/site-packages (from matplotlib!=3.6.1,>=3.1->seaborn) (9.5.0)\n",
      "Requirement already satisfied: contourpy>=1.0.1 in /Library/Frameworks/Python.framework/Versions/3.10/lib/python3.10/site-packages (from matplotlib!=3.6.1,>=3.1->seaborn) (1.0.7)\n",
      "Requirement already satisfied: tzdata>=2022.1 in /Library/Frameworks/Python.framework/Versions/3.10/lib/python3.10/site-packages (from pandas>=0.25->seaborn) (2023.3)\n",
      "Requirement already satisfied: pytz>=2020.1 in /Library/Frameworks/Python.framework/Versions/3.10/lib/python3.10/site-packages (from pandas>=0.25->seaborn) (2023.3)\n",
      "Requirement already satisfied: six>=1.5 in /Users/krish/Library/Python/3.10/lib/python/site-packages (from python-dateutil>=2.7->matplotlib!=3.6.1,>=3.1->seaborn) (1.16.0)\n",
      "\u001b[33mWARNING: You are using pip version 21.2.4; however, version 23.2.1 is available.\n",
      "You should consider upgrading via the '/usr/local/bin/python3 -m pip install --upgrade pip' command.\u001b[0m\n",
      "Note: you may need to restart the kernel to use updated packages.\n"
     ]
    }
   ],
   "metadata": {}
  },
  {
   "cell_type": "code",
   "execution_count": 2,
   "source": [
    "# import packages\n",
    "\n",
    "import pandas as pd\n",
    "import numpy as np\n",
    "import altair as alt\n",
    "import matplotlib.pyplot as plt\n",
    "import seaborn as sns\n",
    "from sklearn.model_selection import train_test_split"
   ],
   "outputs": [],
   "metadata": {}
  },
  {
   "cell_type": "code",
   "execution_count": 3,
   "source": [
    "# read in data\n",
    "zoo = pd.read_csv('zoo.csv')\n",
    "zoo_class = pd.read_csv('class.csv')"
   ],
   "outputs": [],
   "metadata": {}
  },
  {
   "cell_type": "code",
   "execution_count": 4,
   "source": [
    "zoo.head()"
   ],
   "outputs": [
    {
     "output_type": "execute_result",
     "data": {
      "text/plain": [
       "  animal_name  hair  feathers  eggs  milk  airborne  aquatic  predator   \n",
       "0    aardvark     1         0     0     1         0        0         1  \\\n",
       "1    antelope     1         0     0     1         0        0         0   \n",
       "2        bass     0         0     1     0         0        1         1   \n",
       "3        bear     1         0     0     1         0        0         1   \n",
       "4        boar     1         0     0     1         0        0         1   \n",
       "\n",
       "   toothed  backbone  breathes  venomous  fins  legs  tail  domestic  catsize   \n",
       "0        1         1         1         0     0     4     0         0        1  \\\n",
       "1        1         1         1         0     0     4     1         0        1   \n",
       "2        1         1         0         0     1     0     1         0        0   \n",
       "3        1         1         1         0     0     4     0         0        1   \n",
       "4        1         1         1         0     0     4     1         0        1   \n",
       "\n",
       "   class_type  \n",
       "0           1  \n",
       "1           1  \n",
       "2           4  \n",
       "3           1  \n",
       "4           1  "
      ],
      "text/html": [
       "<div>\n",
       "<style scoped>\n",
       "    .dataframe tbody tr th:only-of-type {\n",
       "        vertical-align: middle;\n",
       "    }\n",
       "\n",
       "    .dataframe tbody tr th {\n",
       "        vertical-align: top;\n",
       "    }\n",
       "\n",
       "    .dataframe thead th {\n",
       "        text-align: right;\n",
       "    }\n",
       "</style>\n",
       "<table border=\"1\" class=\"dataframe\">\n",
       "  <thead>\n",
       "    <tr style=\"text-align: right;\">\n",
       "      <th></th>\n",
       "      <th>animal_name</th>\n",
       "      <th>hair</th>\n",
       "      <th>feathers</th>\n",
       "      <th>eggs</th>\n",
       "      <th>milk</th>\n",
       "      <th>airborne</th>\n",
       "      <th>aquatic</th>\n",
       "      <th>predator</th>\n",
       "      <th>toothed</th>\n",
       "      <th>backbone</th>\n",
       "      <th>breathes</th>\n",
       "      <th>venomous</th>\n",
       "      <th>fins</th>\n",
       "      <th>legs</th>\n",
       "      <th>tail</th>\n",
       "      <th>domestic</th>\n",
       "      <th>catsize</th>\n",
       "      <th>class_type</th>\n",
       "    </tr>\n",
       "  </thead>\n",
       "  <tbody>\n",
       "    <tr>\n",
       "      <th>0</th>\n",
       "      <td>aardvark</td>\n",
       "      <td>1</td>\n",
       "      <td>0</td>\n",
       "      <td>0</td>\n",
       "      <td>1</td>\n",
       "      <td>0</td>\n",
       "      <td>0</td>\n",
       "      <td>1</td>\n",
       "      <td>1</td>\n",
       "      <td>1</td>\n",
       "      <td>1</td>\n",
       "      <td>0</td>\n",
       "      <td>0</td>\n",
       "      <td>4</td>\n",
       "      <td>0</td>\n",
       "      <td>0</td>\n",
       "      <td>1</td>\n",
       "      <td>1</td>\n",
       "    </tr>\n",
       "    <tr>\n",
       "      <th>1</th>\n",
       "      <td>antelope</td>\n",
       "      <td>1</td>\n",
       "      <td>0</td>\n",
       "      <td>0</td>\n",
       "      <td>1</td>\n",
       "      <td>0</td>\n",
       "      <td>0</td>\n",
       "      <td>0</td>\n",
       "      <td>1</td>\n",
       "      <td>1</td>\n",
       "      <td>1</td>\n",
       "      <td>0</td>\n",
       "      <td>0</td>\n",
       "      <td>4</td>\n",
       "      <td>1</td>\n",
       "      <td>0</td>\n",
       "      <td>1</td>\n",
       "      <td>1</td>\n",
       "    </tr>\n",
       "    <tr>\n",
       "      <th>2</th>\n",
       "      <td>bass</td>\n",
       "      <td>0</td>\n",
       "      <td>0</td>\n",
       "      <td>1</td>\n",
       "      <td>0</td>\n",
       "      <td>0</td>\n",
       "      <td>1</td>\n",
       "      <td>1</td>\n",
       "      <td>1</td>\n",
       "      <td>1</td>\n",
       "      <td>0</td>\n",
       "      <td>0</td>\n",
       "      <td>1</td>\n",
       "      <td>0</td>\n",
       "      <td>1</td>\n",
       "      <td>0</td>\n",
       "      <td>0</td>\n",
       "      <td>4</td>\n",
       "    </tr>\n",
       "    <tr>\n",
       "      <th>3</th>\n",
       "      <td>bear</td>\n",
       "      <td>1</td>\n",
       "      <td>0</td>\n",
       "      <td>0</td>\n",
       "      <td>1</td>\n",
       "      <td>0</td>\n",
       "      <td>0</td>\n",
       "      <td>1</td>\n",
       "      <td>1</td>\n",
       "      <td>1</td>\n",
       "      <td>1</td>\n",
       "      <td>0</td>\n",
       "      <td>0</td>\n",
       "      <td>4</td>\n",
       "      <td>0</td>\n",
       "      <td>0</td>\n",
       "      <td>1</td>\n",
       "      <td>1</td>\n",
       "    </tr>\n",
       "    <tr>\n",
       "      <th>4</th>\n",
       "      <td>boar</td>\n",
       "      <td>1</td>\n",
       "      <td>0</td>\n",
       "      <td>0</td>\n",
       "      <td>1</td>\n",
       "      <td>0</td>\n",
       "      <td>0</td>\n",
       "      <td>1</td>\n",
       "      <td>1</td>\n",
       "      <td>1</td>\n",
       "      <td>1</td>\n",
       "      <td>0</td>\n",
       "      <td>0</td>\n",
       "      <td>4</td>\n",
       "      <td>1</td>\n",
       "      <td>0</td>\n",
       "      <td>1</td>\n",
       "      <td>1</td>\n",
       "    </tr>\n",
       "  </tbody>\n",
       "</table>\n",
       "</div>"
      ]
     },
     "metadata": {},
     "execution_count": 4
    }
   ],
   "metadata": {}
  },
  {
   "cell_type": "code",
   "execution_count": 5,
   "source": [
    "\n",
    "zoo_class"
   ],
   "outputs": [
    {
     "output_type": "execute_result",
     "data": {
      "text/plain": [
       "   Class_Number  Number_Of_Animal_Species_In_Class    Class_Type   \n",
       "0             1                                 41        Mammal  \\\n",
       "1             2                                 20          Bird   \n",
       "2             3                                  5       Reptile   \n",
       "3             4                                 13          Fish   \n",
       "4             5                                  4     Amphibian   \n",
       "5             6                                  8           Bug   \n",
       "6             7                                 10  Invertebrate   \n",
       "\n",
       "                                        Animal_Names  \n",
       "0  aardvark, antelope, bear, boar, buffalo, calf,...  \n",
       "1  chicken, crow, dove, duck, flamingo, gull, haw...  \n",
       "2    pitviper, seasnake, slowworm, tortoise, tuatara  \n",
       "3  bass, carp, catfish, chub, dogfish, haddock, h...  \n",
       "4                             frog, frog, newt, toad  \n",
       "5  flea, gnat, honeybee, housefly, ladybird, moth...  \n",
       "6  clam, crab, crayfish, lobster, octopus, scorpi...  "
      ],
      "text/html": [
       "<div>\n",
       "<style scoped>\n",
       "    .dataframe tbody tr th:only-of-type {\n",
       "        vertical-align: middle;\n",
       "    }\n",
       "\n",
       "    .dataframe tbody tr th {\n",
       "        vertical-align: top;\n",
       "    }\n",
       "\n",
       "    .dataframe thead th {\n",
       "        text-align: right;\n",
       "    }\n",
       "</style>\n",
       "<table border=\"1\" class=\"dataframe\">\n",
       "  <thead>\n",
       "    <tr style=\"text-align: right;\">\n",
       "      <th></th>\n",
       "      <th>Class_Number</th>\n",
       "      <th>Number_Of_Animal_Species_In_Class</th>\n",
       "      <th>Class_Type</th>\n",
       "      <th>Animal_Names</th>\n",
       "    </tr>\n",
       "  </thead>\n",
       "  <tbody>\n",
       "    <tr>\n",
       "      <th>0</th>\n",
       "      <td>1</td>\n",
       "      <td>41</td>\n",
       "      <td>Mammal</td>\n",
       "      <td>aardvark, antelope, bear, boar, buffalo, calf,...</td>\n",
       "    </tr>\n",
       "    <tr>\n",
       "      <th>1</th>\n",
       "      <td>2</td>\n",
       "      <td>20</td>\n",
       "      <td>Bird</td>\n",
       "      <td>chicken, crow, dove, duck, flamingo, gull, haw...</td>\n",
       "    </tr>\n",
       "    <tr>\n",
       "      <th>2</th>\n",
       "      <td>3</td>\n",
       "      <td>5</td>\n",
       "      <td>Reptile</td>\n",
       "      <td>pitviper, seasnake, slowworm, tortoise, tuatara</td>\n",
       "    </tr>\n",
       "    <tr>\n",
       "      <th>3</th>\n",
       "      <td>4</td>\n",
       "      <td>13</td>\n",
       "      <td>Fish</td>\n",
       "      <td>bass, carp, catfish, chub, dogfish, haddock, h...</td>\n",
       "    </tr>\n",
       "    <tr>\n",
       "      <th>4</th>\n",
       "      <td>5</td>\n",
       "      <td>4</td>\n",
       "      <td>Amphibian</td>\n",
       "      <td>frog, frog, newt, toad</td>\n",
       "    </tr>\n",
       "    <tr>\n",
       "      <th>5</th>\n",
       "      <td>6</td>\n",
       "      <td>8</td>\n",
       "      <td>Bug</td>\n",
       "      <td>flea, gnat, honeybee, housefly, ladybird, moth...</td>\n",
       "    </tr>\n",
       "    <tr>\n",
       "      <th>6</th>\n",
       "      <td>7</td>\n",
       "      <td>10</td>\n",
       "      <td>Invertebrate</td>\n",
       "      <td>clam, crab, crayfish, lobster, octopus, scorpi...</td>\n",
       "    </tr>\n",
       "  </tbody>\n",
       "</table>\n",
       "</div>"
      ]
     },
     "metadata": {},
     "execution_count": 5
    }
   ],
   "metadata": {}
  },
  {
   "cell_type": "code",
   "execution_count": 6,
   "source": [
    "zoo.shape"
   ],
   "outputs": [
    {
     "output_type": "execute_result",
     "data": {
      "text/plain": [
       "(101, 18)"
      ]
     },
     "metadata": {},
     "execution_count": 6
    }
   ],
   "metadata": {}
  },
  {
   "cell_type": "code",
   "execution_count": 7,
   "source": [
    "zoo.info()"
   ],
   "outputs": [
    {
     "output_type": "stream",
     "name": "stdout",
     "text": [
      "<class 'pandas.core.frame.DataFrame'>\n",
      "RangeIndex: 101 entries, 0 to 100\n",
      "Data columns (total 18 columns):\n",
      " #   Column       Non-Null Count  Dtype \n",
      "---  ------       --------------  ----- \n",
      " 0   animal_name  101 non-null    object\n",
      " 1   hair         101 non-null    int64 \n",
      " 2   feathers     101 non-null    int64 \n",
      " 3   eggs         101 non-null    int64 \n",
      " 4   milk         101 non-null    int64 \n",
      " 5   airborne     101 non-null    int64 \n",
      " 6   aquatic      101 non-null    int64 \n",
      " 7   predator     101 non-null    int64 \n",
      " 8   toothed      101 non-null    int64 \n",
      " 9   backbone     101 non-null    int64 \n",
      " 10  breathes     101 non-null    int64 \n",
      " 11  venomous     101 non-null    int64 \n",
      " 12  fins         101 non-null    int64 \n",
      " 13  legs         101 non-null    int64 \n",
      " 14  tail         101 non-null    int64 \n",
      " 15  domestic     101 non-null    int64 \n",
      " 16  catsize      101 non-null    int64 \n",
      " 17  class_type   101 non-null    int64 \n",
      "dtypes: int64(17), object(1)\n",
      "memory usage: 14.3+ KB\n"
     ]
    }
   ],
   "metadata": {}
  },
  {
   "cell_type": "code",
   "execution_count": 8,
   "source": [
    "# create a dictionary for the actual label names\n",
    "class_dict = dict(zip(zoo_class.Class_Number, zoo_class.Class_Type))\n",
    "\n",
    "# Map the dictionary onto the class_type column in the zoo dataframe\n",
    "zoo['class_label'] = zoo['class_type'].map(class_dict)"
   ],
   "outputs": [],
   "metadata": {}
  },
  {
   "cell_type": "code",
   "execution_count": 9,
   "source": [
    "plt.figure(figsize=(5, 3))\n",
    "ax = sns.countplot(data=zoo, x='class_label')\n",
    "ax.bar_label(ax.containers[0])\n",
    "plt.title('Distribution of Class Type')\n",
    "plt.xticks(rotation=45)\n",
    "plt.show()"
   ],
   "outputs": [
    {
     "output_type": "display_data",
     "data": {
      "text/plain": [
       "<Figure size 360x216 with 1 Axes>"
      ],
      "image/png": "[encoded data removed]"
     },
     "metadata": {
      "needs_background": "light"
     }
    }
   ],
   "metadata": {}
  },
  {
   "cell_type": "code",
   "execution_count": 10,
   "source": [
    "corr_mx = zoo.drop(columns = ['animal_name', 'class_type', 'class_label']).corr()"
   ],
   "outputs": [],
   "metadata": {}
  },
  {
   "cell_type": "code",
   "execution_count": 11,
   "source": [
    "corr_mx_long = corr_mx.reset_index().rename(\n",
    "    columns = {'index': 'row'}\n",
    ").melt(\n",
    "    id_vars = 'row',\n",
    "    var_name = 'col',\n",
    "    value_name = 'Correlation'\n",
    ")\n",
    "\n",
    "# build altair plot\n",
    "alt.Chart(corr_mx_long).mark_rect().encode(\n",
    "    x = alt.X('col', title = '', sort = {'field': 'Correlation', 'order': 'ascending'}),\n",
    "    y = alt.Y('row', title = '', sort = {'field': 'Correlation', 'order': 'ascending'}),\n",
    "    color = alt.Color('Correlation',\n",
    "    scale = alt.Scale(scheme = 'blueorange', # choose a diverging gradient\n",
    "    domain = (-1, 1), \n",
    "    type = 'sqrt'), \n",
    "    legend = alt.Legend(tickCount = 5))\n",
    ").properties(width = 300, height = 300)"
   ],
   "outputs": [
    {
     "output_type": "execute_result",
     "data": {
      "text/plain": [
       "alt.Chart(...)"
      ],
      "text/html": [
       "\n",
       "<div id=\"altair-viz-a00fc9c7e6804210b9f5348c425130fd\"></div>\n",
       "<script type=\"text/javascript\">\n",
       "  var VEGA_DEBUG = (typeof VEGA_DEBUG == \"undefined\") ? {} : VEGA_DEBUG;\n",
       "  (function(spec, embedOpt){\n",
       "    let outputDiv = document.currentScript.previousElementSibling;\n",
       "    if (outputDiv.id !== \"altair-viz-a00fc9c7e6804210b9f5348c425130fd\") {\n",
       "      outputDiv = document.getElementById(\"altair-viz-a00fc9c7e6804210b9f5348c425130fd\");\n",
       "    }\n",
       "    const paths = {\n",
       "      \"vega\": \"https://cdn.jsdelivr.net/npm//vega@5?noext\",\n",
       "      \"vega-lib\": \"https://cdn.jsdelivr.net/npm//vega-lib?noext\",\n",
       "      \"vega-lite\": \"https://cdn.jsdelivr.net/npm//vega-lite@4.17.0?noext\",\n",
       "      \"vega-embed\": \"https://cdn.jsdelivr.net/npm//vega-embed@6?noext\",\n",
       "    };\n",
       "\n",
       "    function maybeLoadScript(lib, version) {\n",
       "      var key = `${lib.replace(\"-\", \"\")}_version`;\n",
       "      return (VEGA_DEBUG[key] == version) ?\n",
       "        Promise.resolve(paths[lib]) :\n",
       "        new Promise(function(resolve, reject) {\n",
       "          var s = document.createElement('script');\n",
       "          document.getElementsByTagName(\"head\")[0].appendChild(s);\n",
       "          s.async = true;\n",
       "          s.onload = () => {\n",
       "            VEGA_DEBUG[key] = version;\n",
       "            return resolve(paths[lib]);\n",
       "          };\n",
       "          s.onerror = () => reject(`Error loading script: ${paths[lib]}`);\n",
       "          s.src = paths[lib];\n",
       "        });\n",
       "    }\n",
       "\n",
       "    function showError(err) {\n",
       "      outputDiv.innerHTML = `<div class=\"error\" style=\"color:red;\">${err}</div>`;\n",
       "      throw err;\n",
       "    }\n",
       "\n",
       "    function displayChart(vegaEmbed) {\n",
       "      vegaEmbed(outputDiv, spec, embedOpt)\n",
       "        .catch(err => showError(`Javascript Error: ${err.message}<br>This usually means there's a typo in your chart specification. See the javascript console for the full traceback.`));\n",
       "    }\n",
       "\n",
       "    if(typeof define === \"function\" && define.amd) {\n",
       "      requirejs.config({paths});\n",
       "      require([\"vega-embed\"], displayChart, err => showError(`Error loading script: ${err.message}`));\n",
       "    } else {\n",
       "      maybeLoadScript(\"vega\", \"5\")\n",
       "        .then(() => maybeLoadScript(\"vega-lite\", \"4.17.0\"))\n",
       "        .then(() => maybeLoadScript(\"vega-embed\", \"6\"))\n",
       "        .catch(showError)\n",
       "        .then(() => displayChart(vegaEmbed));\n",
       "    }\n",
       "  })({\"config\": {\"view\": {\"continuousWidth\": 400, \"continuousHeight\": 300}}, \"data\": {\"name\": \"data-da0c0a36c205826699af34984fa98b50\"}, \"mark\": \"rect\", \"encoding\": {\"color\": {\"field\": \"Correlation\", \"legend\": {\"tickCount\": 5}, \"scale\": {\"domain\": [-1, 1], \"scheme\": \"blueorange\", \"type\": \"sqrt\"}, \"type\": \"quantitative\"}, \"x\": {\"field\": \"col\", \"sort\": {\"field\": \"Correlation\", \"order\": \"ascending\"}, \"title\": \"\", \"type\": \"nominal\"}, \"y\": {\"field\": \"row\", \"sort\": {\"field\": \"Correlation\", \"order\": \"ascending\"}, \"title\": \"\", \"type\": \"nominal\"}}, \"height\": 300, \"width\": 300, \"$schema\": \"https://vega.github.io/schema/vega-lite/v4.17.0.json\", \"datasets\": {\"data-da0c0a36c205826699af34984fa98b50\": [{\"row\": \"hair\", \"col\": \"hair\", \"Correlation\": 1.0}, {\"row\": \"feathers\", \"col\": \"hair\", \"Correlation\": -0.42785116552164393}, {\"row\": \"eggs\", \"col\": \"hair\", \"Correlation\": -0.8173815452256148}, {\"row\": \"milk\", \"col\": \"hair\", \"Correlation\": 0.8785027248895131}, {\"row\": \"airborne\", \"col\": \"hair\", \"Correlation\": -0.19843139753422392}, {\"row\": \"aquatic\", \"col\": \"hair\", \"Correlation\": -0.4735543945425626}, {\"row\": \"predator\", \"col\": \"hair\", \"Correlation\": -0.15476873418901804}, {\"row\": \"toothed\", \"col\": \"hair\", \"Correlation\": 0.4925305122465417}, {\"row\": \"backbone\", \"col\": \"hair\", \"Correlation\": 0.19168061792497787}, {\"row\": \"breathes\", \"col\": \"hair\", \"Correlation\": 0.4411485792400528}, {\"row\": \"venomous\", \"col\": \"hair\", \"Correlation\": -0.10424462035591722}, {\"row\": \"fins\", \"col\": \"hair\", \"Correlation\": -0.28031306735799794}, {\"row\": \"legs\", \"col\": \"hair\", \"Correlation\": 0.39400851135212256}, {\"row\": \"tail\", \"col\": \"hair\", \"Correlation\": 0.04897317098328602}, {\"row\": \"domestic\", \"col\": \"hair\", \"Correlation\": 0.20720813773061153}, {\"row\": \"catsize\", \"col\": \"hair\", \"Correlation\": 0.45501977505780106}, {\"row\": \"hair\", \"col\": \"feathers\", \"Correlation\": -0.42785116552164393}, {\"row\": \"feathers\", \"col\": \"feathers\", \"Correlation\": 1.0}, {\"row\": \"eggs\", \"col\": \"feathers\", \"Correlation\": 0.4192481238220529}, {\"row\": \"milk\", \"col\": \"feathers\", \"Correlation\": -0.410760611348497}, {\"row\": \"airborne\", \"col\": \"feathers\", \"Correlation\": 0.6565530764325558}, {\"row\": \"aquatic\", \"col\": \"feathers\", \"Correlation\": -0.058551687379329774}, {\"row\": \"predator\", \"col\": \"feathers\", \"Correlation\": -0.10442985563615105}, {\"row\": \"toothed\", \"col\": \"feathers\", \"Correlation\": -0.6136311676215142}, {\"row\": \"backbone\", \"col\": \"feathers\", \"Correlation\": 0.23140337816687445}, {\"row\": \"breathes\", \"col\": \"feathers\", \"Correlation\": 0.25458753860865785}, {\"row\": \"venomous\", \"col\": \"feathers\", \"Correlation\": -0.14573907461865618}, {\"row\": \"fins\", \"col\": \"feathers\", \"Correlation\": -0.22354106004526567}, {\"row\": \"legs\", \"col\": \"feathers\", \"Correlation\": -0.2066860517236373}, {\"row\": \"tail\", \"col\": \"feathers\", \"Correlation\": 0.29256915049083704}, {\"row\": \"domestic\", \"col\": \"feathers\", \"Correlation\": 0.031586240374946735}, {\"row\": \"catsize\", \"col\": \"feathers\", \"Correlation\": -0.1359343733507858}, {\"row\": \"hair\", \"col\": \"eggs\", \"Correlation\": -0.8173815452256148}, {\"row\": \"feathers\", \"col\": \"eggs\", \"Correlation\": 0.4192481238220529}, {\"row\": \"eggs\", \"col\": \"eggs\", \"Correlation\": 1.0}, {\"row\": \"milk\", \"col\": \"eggs\", \"Correlation\": -0.9388478737749794}, {\"row\": \"airborne\", \"col\": \"eggs\", \"Correlation\": 0.37664604143747676}, {\"row\": \"aquatic\", \"col\": \"eggs\", \"Correlation\": 0.37624403034882786}, {\"row\": \"predator\", \"col\": \"eggs\", \"Correlation\": 0.011605051617935368}, {\"row\": \"toothed\", \"col\": \"eggs\", \"Correlation\": -0.6421501167047026}, {\"row\": \"backbone\", \"col\": \"eggs\", \"Correlation\": -0.3404202217144734}, {\"row\": \"breathes\", \"col\": \"eggs\", \"Correlation\": -0.38277691860228247}, {\"row\": \"venomous\", \"col\": \"eggs\", \"Correlation\": 0.0986887571294587}, {\"row\": \"fins\", \"col\": \"eggs\", \"Correlation\": 0.16479610358764646}, {\"row\": \"legs\", \"col\": \"eggs\", \"Correlation\": -0.2249184718278662}, {\"row\": \"tail\", \"col\": \"eggs\", \"Correlation\": -0.22108959929067046}, {\"row\": \"domestic\", \"col\": \"eggs\", \"Correlation\": -0.15561004491642844}, {\"row\": \"catsize\", \"col\": \"eggs\", \"Correlation\": -0.5146503106707564}, {\"row\": \"hair\", \"col\": \"milk\", \"Correlation\": 0.8785027248895131}, {\"row\": \"feathers\", \"col\": \"milk\", \"Correlation\": -0.410760611348497}, {\"row\": \"eggs\", \"col\": \"milk\", \"Correlation\": -0.9388478737749794}, {\"row\": \"milk\", \"col\": \"milk\", \"Correlation\": 1.0}, {\"row\": \"airborne\", \"col\": \"milk\", \"Correlation\": -0.36676527983491064}, {\"row\": \"aquatic\", \"col\": \"milk\", \"Correlation\": -0.36261333437825777}, {\"row\": \"predator\", \"col\": \"milk\", \"Correlation\": -0.02972103271723248}, {\"row\": \"toothed\", \"col\": \"milk\", \"Correlation\": 0.6281684978851663}, {\"row\": \"backbone\", \"col\": \"milk\", \"Correlation\": 0.3849581419899277}, {\"row\": \"breathes\", \"col\": \"milk\", \"Correlation\": 0.4235268586524352}, {\"row\": \"venomous\", \"col\": \"milk\", \"Correlation\": -0.24244867912027987}, {\"row\": \"fins\", \"col\": \"milk\", \"Correlation\": -0.15632770892200498}, {\"row\": \"legs\", \"col\": \"milk\", \"Correlation\": 0.21419632973700356}, {\"row\": \"tail\", \"col\": \"milk\", \"Correlation\": 0.21002595708028104}, {\"row\": \"domestic\", \"col\": \"milk\", \"Correlation\": 0.16392761791396487}, {\"row\": \"catsize\", \"col\": \"milk\", \"Correlation\": 0.5749060617274327}, {\"row\": \"hair\", \"col\": \"airborne\", \"Correlation\": -0.19843139753422392}, {\"row\": \"feathers\", \"col\": \"airborne\", \"Correlation\": 0.6565530764325558}, {\"row\": \"eggs\", \"col\": \"airborne\", \"Correlation\": 0.37664604143747676}, {\"row\": \"milk\", \"col\": \"airborne\", \"Correlation\": -0.36676527983491064}, {\"row\": \"airborne\", \"col\": \"airborne\", \"Correlation\": 1.0}, {\"row\": \"aquatic\", \"col\": \"airborne\", \"Correlation\": -0.17263765827235092}, {\"row\": \"predator\", \"col\": \"airborne\", \"Correlation\": -0.29518084966124425}, {\"row\": \"toothed\", \"col\": \"airborne\", \"Correlation\": -0.5943105753453786}, {\"row\": \"backbone\", \"col\": \"airborne\", \"Correlation\": -0.10471839231402105}, {\"row\": \"breathes\", \"col\": \"airborne\", \"Correlation\": 0.28603877677367767}, {\"row\": \"venomous\", \"col\": \"airborne\", \"Correlation\": 0.008528301564241106}, {\"row\": \"fins\", \"col\": \"airborne\", \"Correlation\": -0.2511568779975807}, {\"row\": \"legs\", \"col\": \"airborne\", \"Correlation\": 0.043711931382812486}, {\"row\": \"tail\", \"col\": \"airborne\", \"Correlation\": 0.009482093118615201}, {\"row\": \"domestic\", \"col\": \"airborne\", \"Correlation\": 0.063273787506284}, {\"row\": \"catsize\", \"col\": \"airborne\", \"Correlation\": -0.3497681232061966}, {\"row\": \"hair\", \"col\": \"aquatic\", \"Correlation\": -0.4735543945425626}, {\"row\": \"feathers\", \"col\": \"aquatic\", \"Correlation\": -0.058551687379329774}, {\"row\": \"eggs\", \"col\": \"aquatic\", \"Correlation\": 0.37624403034882786}, {\"row\": \"milk\", \"col\": \"aquatic\", \"Correlation\": -0.36261333437825777}, {\"row\": \"airborne\", \"col\": \"aquatic\", \"Correlation\": -0.17263765827235092}, {\"row\": \"aquatic\", \"col\": \"aquatic\", \"Correlation\": 1.0}, {\"row\": \"predator\", \"col\": \"aquatic\", \"Correlation\": 0.37597812561754745}, {\"row\": \"toothed\", \"col\": \"aquatic\", \"Correlation\": 0.05314970753406817}, {\"row\": \"backbone\", \"col\": \"aquatic\", \"Correlation\": 0.022462912373360504}, {\"row\": \"breathes\", \"col\": \"aquatic\", \"Correlation\": -0.6375063344111384}, {\"row\": \"venomous\", \"col\": \"aquatic\", \"Correlation\": 0.08791512395140891}, {\"row\": \"fins\", \"col\": \"aquatic\", \"Correlation\": 0.604491565623585}, {\"row\": \"legs\", \"col\": \"aquatic\", \"Correlation\": -0.3606378958610701}, {\"row\": \"tail\", \"col\": \"aquatic\", \"Correlation\": -0.03464228141485668}, {\"row\": \"domestic\", \"col\": \"aquatic\", \"Correlation\": -0.22430818605970018}, {\"row\": \"catsize\", \"col\": \"aquatic\", \"Correlation\": -0.11186586781674493}, {\"row\": \"hair\", \"col\": \"predator\", \"Correlation\": -0.15476873418901804}, {\"row\": \"feathers\", \"col\": \"predator\", \"Correlation\": -0.10442985563615105}, {\"row\": \"eggs\", \"col\": \"predator\", \"Correlation\": 0.011605051617935368}, {\"row\": \"milk\", \"col\": \"predator\", \"Correlation\": -0.02972103271723248}, {\"row\": \"airborne\", \"col\": \"predator\", \"Correlation\": -0.29518084966124425}, {\"row\": \"aquatic\", \"col\": \"predator\", \"Correlation\": 0.37597812561754745}, {\"row\": \"predator\", \"col\": \"predator\", \"Correlation\": 1.0}, {\"row\": \"toothed\", \"col\": \"predator\", \"Correlation\": 0.1294523231976338}, {\"row\": \"backbone\", \"col\": \"predator\", \"Correlation\": 0.05102225224107763}, {\"row\": \"breathes\", \"col\": \"predator\", \"Correlation\": -0.26293133945351177}, {\"row\": \"venomous\", \"col\": \"predator\", \"Correlation\": 0.11539057800533305}, {\"row\": \"fins\", \"col\": \"predator\", \"Correlation\": 0.19030177004760382}, {\"row\": \"legs\", \"col\": \"predator\", \"Correlation\": -0.09972295023465265}, {\"row\": \"tail\", \"col\": \"predator\", \"Correlation\": 0.01894661866862687}, {\"row\": \"domestic\", \"col\": \"predator\", \"Correlation\": -0.30979361431779645}, {\"row\": \"catsize\", \"col\": \"predator\", \"Correlation\": 0.144789592951925}, {\"row\": \"hair\", \"col\": \"toothed\", \"Correlation\": 0.4925305122465417}, {\"row\": \"feathers\", \"col\": \"toothed\", \"Correlation\": -0.6136311676215142}, {\"row\": \"eggs\", \"col\": \"toothed\", \"Correlation\": -0.6421501167047026}, {\"row\": \"milk\", \"col\": \"toothed\", \"Correlation\": 0.6281684978851663}, {\"row\": \"airborne\", \"col\": \"toothed\", \"Correlation\": -0.5943105753453786}, {\"row\": \"aquatic\", \"col\": \"toothed\", \"Correlation\": 0.05314970753406817}, {\"row\": \"predator\", \"col\": \"toothed\", \"Correlation\": 0.1294523231976338}, {\"row\": \"toothed\", \"col\": \"toothed\", \"Correlation\": 1.0}, {\"row\": \"backbone\", \"col\": \"toothed\", \"Correlation\": 0.5750851168012129}, {\"row\": \"breathes\", \"col\": \"toothed\", \"Correlation\": -0.06569042731203056}, {\"row\": \"venomous\", \"col\": \"toothed\", \"Correlation\": -0.062344465382491374}, {\"row\": \"fins\", \"col\": \"toothed\", \"Correlation\": 0.364292219562004}, {\"row\": \"legs\", \"col\": \"toothed\", \"Correlation\": -0.19347599335745222}, {\"row\": \"tail\", \"col\": \"toothed\", \"Correlation\": 0.3103676513826793}, {\"row\": \"domestic\", \"col\": \"toothed\", \"Correlation\": 0.06943046339193447}, {\"row\": \"catsize\", \"col\": \"toothed\", \"Correlation\": 0.34400985235684256}, {\"row\": \"hair\", \"col\": \"backbone\", \"Correlation\": 0.19168061792497787}, {\"row\": \"feathers\", \"col\": \"backbone\", \"Correlation\": 0.23140337816687445}, {\"row\": \"eggs\", \"col\": \"backbone\", \"Correlation\": -0.3404202217144734}, {\"row\": \"milk\", \"col\": \"backbone\", \"Correlation\": 0.3849581419899277}, {\"row\": \"airborne\", \"col\": \"backbone\", \"Correlation\": -0.10471839231402105}, {\"row\": \"aquatic\", \"col\": \"backbone\", \"Correlation\": 0.022462912373360504}, {\"row\": \"predator\", \"col\": \"backbone\", \"Correlation\": 0.05102225224107763}, {\"row\": \"toothed\", \"col\": \"backbone\", \"Correlation\": 0.5750851168012129}, {\"row\": \"backbone\", \"col\": \"backbone\", \"Correlation\": 1.0}, {\"row\": \"breathes\", \"col\": \"backbone\", \"Correlation\": 0.20766626806814617}, {\"row\": \"venomous\", \"col\": \"backbone\", \"Correlation\": -0.2466105100704709}, {\"row\": \"fins\", \"col\": \"backbone\", \"Correlation\": 0.2094990336365883}, {\"row\": \"legs\", \"col\": \"backbone\", \"Correlation\": -0.4328561148437274}, {\"row\": \"tail\", \"col\": \"backbone\", \"Correlation\": 0.7317619678035817}, {\"row\": \"domestic\", \"col\": \"backbone\", \"Correlation\": 0.10173334631913084}, {\"row\": \"catsize\", \"col\": \"backbone\", \"Correlation\": 0.35697597015608146}, {\"row\": \"hair\", \"col\": \"breathes\", \"Correlation\": 0.4411485792400528}, {\"row\": \"feathers\", \"col\": \"breathes\", \"Correlation\": 0.25458753860865785}, {\"row\": \"eggs\", \"col\": \"breathes\", \"Correlation\": -0.38277691860228247}, {\"row\": \"milk\", \"col\": \"breathes\", \"Correlation\": 0.4235268586524352}, {\"row\": \"airborne\", \"col\": \"breathes\", \"Correlation\": 0.28603877677367767}, {\"row\": \"aquatic\", \"col\": \"breathes\", \"Correlation\": -0.6375063344111384}, {\"row\": \"predator\", \"col\": \"breathes\", \"Correlation\": -0.26293133945351177}, {\"row\": \"toothed\", \"col\": \"breathes\", \"Correlation\": -0.06569042731203056}, {\"row\": \"backbone\", \"col\": \"breathes\", \"Correlation\": 0.20766626806814617}, {\"row\": \"breathes\", \"col\": \"breathes\", \"Correlation\": 1.0}, {\"row\": \"venomous\", \"col\": \"breathes\", \"Correlation\": -0.120751534895932}, {\"row\": \"fins\", \"col\": \"breathes\", \"Correlation\": -0.6172188026030814}, {\"row\": \"legs\", \"col\": \"breathes\", \"Correlation\": 0.3698678029541169}, {\"row\": \"tail\", \"col\": \"breathes\", \"Correlation\": 0.08895163383768263}, {\"row\": \"domestic\", \"col\": \"breathes\", \"Correlation\": 0.12406828923194012}, {\"row\": \"catsize\", \"col\": \"breathes\", \"Correlation\": 0.20412472658262218}, {\"row\": \"hair\", \"col\": \"venomous\", \"Correlation\": -0.10424462035591722}, {\"row\": \"feathers\", \"col\": \"venomous\", \"Correlation\": -0.14573907461865618}, {\"row\": \"eggs\", \"col\": \"venomous\", \"Correlation\": 0.0986887571294587}, {\"row\": \"milk\", \"col\": \"venomous\", \"Correlation\": -0.24244867912027987}, {\"row\": \"airborne\", \"col\": \"venomous\", \"Correlation\": 0.008528301564241106}, {\"row\": \"aquatic\", \"col\": \"venomous\", \"Correlation\": 0.08791512395140891}, {\"row\": \"predator\", \"col\": \"venomous\", \"Correlation\": 0.11539057800533305}, {\"row\": \"toothed\", \"col\": \"venomous\", \"Correlation\": -0.062344465382491374}, {\"row\": \"backbone\", \"col\": \"venomous\", \"Correlation\": -0.2466105100704709}, {\"row\": \"breathes\", \"col\": \"venomous\", \"Correlation\": -0.120751534895932}, {\"row\": \"venomous\", \"col\": \"venomous\", \"Correlation\": 1.0}, {\"row\": \"fins\", \"col\": \"venomous\", \"Correlation\": -0.03395607411684443}, {\"row\": \"legs\", \"col\": \"venomous\", \"Correlation\": 0.022963773619743194}, {\"row\": \"tail\", \"col\": \"venomous\", \"Correlation\": -0.16272425725299466}, {\"row\": \"domestic\", \"col\": \"venomous\", \"Correlation\": -0.003251784635556167}, {\"row\": \"catsize\", \"col\": \"venomous\", \"Correlation\": -0.1837483667872825}, {\"row\": \"hair\", \"col\": \"fins\", \"Correlation\": -0.28031306735799794}, {\"row\": \"feathers\", \"col\": \"fins\", \"Correlation\": -0.22354106004526567}, {\"row\": \"eggs\", \"col\": \"fins\", \"Correlation\": 0.16479610358764646}, {\"row\": \"milk\", \"col\": \"fins\", \"Correlation\": -0.15632770892200498}, {\"row\": \"airborne\", \"col\": \"fins\", \"Correlation\": -0.2511568779975807}, {\"row\": \"aquatic\", \"col\": \"fins\", \"Correlation\": 0.604491565623585}, {\"row\": \"predator\", \"col\": \"fins\", \"Correlation\": 0.19030177004760382}, {\"row\": \"toothed\", \"col\": \"fins\", \"Correlation\": 0.364292219562004}, {\"row\": \"backbone\", \"col\": \"fins\", \"Correlation\": 0.2094990336365883}, {\"row\": \"breathes\", \"col\": \"fins\", \"Correlation\": -0.6172188026030814}, {\"row\": \"venomous\", \"col\": \"fins\", \"Correlation\": -0.03395607411684443}, {\"row\": \"fins\", \"col\": \"fins\", \"Correlation\": 1.0}, {\"row\": \"legs\", \"col\": \"fins\", \"Correlation\": -0.6056518124207464}, {\"row\": \"tail\", \"col\": \"fins\", \"Correlation\": 0.20434921305512274}, {\"row\": \"domestic\", \"col\": \"fins\", \"Correlation\": -0.09388671203672883}, {\"row\": \"catsize\", \"col\": \"fins\", \"Correlation\": 0.0317046804699353}, {\"row\": \"hair\", \"col\": \"legs\", \"Correlation\": 0.39400851135212256}, {\"row\": \"feathers\", \"col\": \"legs\", \"Correlation\": -0.2066860517236373}, {\"row\": \"eggs\", \"col\": \"legs\", \"Correlation\": -0.2249184718278662}, {\"row\": \"milk\", \"col\": \"legs\", \"Correlation\": 0.21419632973700356}, {\"row\": \"airborne\", \"col\": \"legs\", \"Correlation\": 0.043711931382812486}, {\"row\": \"aquatic\", \"col\": \"legs\", \"Correlation\": -0.3606378958610701}, {\"row\": \"predator\", \"col\": \"legs\", \"Correlation\": -0.09972295023465265}, {\"row\": \"toothed\", \"col\": \"legs\", \"Correlation\": -0.19347599335745222}, {\"row\": \"backbone\", \"col\": \"legs\", \"Correlation\": -0.4328561148437274}, {\"row\": \"breathes\", \"col\": \"legs\", \"Correlation\": 0.3698678029541169}, {\"row\": \"venomous\", \"col\": \"legs\", \"Correlation\": 0.022963773619743194}, {\"row\": \"fins\", \"col\": \"legs\", \"Correlation\": -0.6056518124207464}, {\"row\": \"legs\", \"col\": \"legs\", \"Correlation\": 1.0}, {\"row\": \"tail\", \"col\": \"legs\", \"Correlation\": -0.34829467152117094}, {\"row\": \"domestic\", \"col\": \"legs\", \"Correlation\": 0.07393118084664851}, {\"row\": \"catsize\", \"col\": \"legs\", \"Correlation\": 0.06879052882155243}, {\"row\": \"hair\", \"col\": \"tail\", \"Correlation\": 0.04897317098328602}, {\"row\": \"feathers\", \"col\": \"tail\", \"Correlation\": 0.29256915049083704}, {\"row\": \"eggs\", \"col\": \"tail\", \"Correlation\": -0.22108959929067046}, {\"row\": \"milk\", \"col\": \"tail\", \"Correlation\": 0.21002595708028104}, {\"row\": \"airborne\", \"col\": \"tail\", \"Correlation\": 0.009482093118615201}, {\"row\": \"aquatic\", \"col\": \"tail\", \"Correlation\": -0.03464228141485668}, {\"row\": \"predator\", \"col\": \"tail\", \"Correlation\": 0.01894661866862687}, {\"row\": \"toothed\", \"col\": \"tail\", \"Correlation\": 0.3103676513826793}, {\"row\": \"backbone\", \"col\": \"tail\", \"Correlation\": 0.7317619678035817}, {\"row\": \"breathes\", \"col\": \"tail\", \"Correlation\": 0.08895163383768263}, {\"row\": \"venomous\", \"col\": \"tail\", \"Correlation\": -0.16272425725299466}, {\"row\": \"fins\", \"col\": \"tail\", \"Correlation\": 0.20434921305512274}, {\"row\": \"legs\", \"col\": \"tail\", \"Correlation\": -0.34829467152117094}, {\"row\": \"tail\", \"col\": \"tail\", \"Correlation\": 1.0}, {\"row\": \"domestic\", \"col\": \"tail\", \"Correlation\": 0.023433530609420893}, {\"row\": \"catsize\", \"col\": \"tail\", \"Correlation\": 0.2432770853088548}, {\"row\": \"hair\", \"col\": \"domestic\", \"Correlation\": 0.20720813773061153}, {\"row\": \"feathers\", \"col\": \"domestic\", \"Correlation\": 0.031586240374946735}, {\"row\": \"eggs\", \"col\": \"domestic\", \"Correlation\": -0.15561004491642844}, {\"row\": \"milk\", \"col\": \"domestic\", \"Correlation\": 0.16392761791396487}, {\"row\": \"airborne\", \"col\": \"domestic\", \"Correlation\": 0.063273787506284}, {\"row\": \"aquatic\", \"col\": \"domestic\", \"Correlation\": -0.22430818605970018}, {\"row\": \"predator\", \"col\": \"domestic\", \"Correlation\": -0.30979361431779645}, {\"row\": \"toothed\", \"col\": \"domestic\", \"Correlation\": 0.06943046339193447}, {\"row\": \"backbone\", \"col\": \"domestic\", \"Correlation\": 0.10173334631913084}, {\"row\": \"breathes\", \"col\": \"domestic\", \"Correlation\": 0.12406828923194012}, {\"row\": \"venomous\", \"col\": \"domestic\", \"Correlation\": -0.003251784635556167}, {\"row\": \"fins\", \"col\": \"domestic\", \"Correlation\": -0.09388671203672883}, {\"row\": \"legs\", \"col\": \"domestic\", \"Correlation\": 0.07393118084664851}, {\"row\": \"tail\", \"col\": \"domestic\", \"Correlation\": 0.023433530609420893}, {\"row\": \"domestic\", \"col\": \"domestic\", \"Correlation\": 1.0}, {\"row\": \"catsize\", \"col\": \"domestic\", \"Correlation\": 0.020072531065736886}, {\"row\": \"hair\", \"col\": \"catsize\", \"Correlation\": 0.45501977505780106}, {\"row\": \"feathers\", \"col\": \"catsize\", \"Correlation\": -0.1359343733507858}, {\"row\": \"eggs\", \"col\": \"catsize\", \"Correlation\": -0.5146503106707564}, {\"row\": \"milk\", \"col\": \"catsize\", \"Correlation\": 0.5749060617274327}, {\"row\": \"airborne\", \"col\": \"catsize\", \"Correlation\": -0.3497681232061966}, {\"row\": \"aquatic\", \"col\": \"catsize\", \"Correlation\": -0.11186586781674493}, {\"row\": \"predator\", \"col\": \"catsize\", \"Correlation\": 0.144789592951925}, {\"row\": \"toothed\", \"col\": \"catsize\", \"Correlation\": 0.34400985235684256}, {\"row\": \"backbone\", \"col\": \"catsize\", \"Correlation\": 0.35697597015608146}, {\"row\": \"breathes\", \"col\": \"catsize\", \"Correlation\": 0.20412472658262218}, {\"row\": \"venomous\", \"col\": \"catsize\", \"Correlation\": -0.1837483667872825}, {\"row\": \"fins\", \"col\": \"catsize\", \"Correlation\": 0.0317046804699353}, {\"row\": \"legs\", \"col\": \"catsize\", \"Correlation\": 0.06879052882155243}, {\"row\": \"tail\", \"col\": \"catsize\", \"Correlation\": 0.2432770853088548}, {\"row\": \"domestic\", \"col\": \"catsize\", \"Correlation\": 0.020072531065736886}, {\"row\": \"catsize\", \"col\": \"catsize\", \"Correlation\": 1.0}]}}, {\"mode\": \"vega-lite\"});\n",
       "</script>"
      ]
     },
     "metadata": {},
     "execution_count": 11
    }
   ],
   "metadata": {}
  },
  {
   "cell_type": "markdown",
   "source": [
    "Creating a Model"
   ],
   "metadata": {}
  },
  {
   "cell_type": "code",
   "execution_count": 12,
   "source": [
    "# define target variable and feature variables\n",
    "zoo_x = zoo.drop(columns = ['class_type', 'class_label'])\n",
    "zoo_y = zoo['class_type']"
   ],
   "outputs": [],
   "metadata": {}
  },
  {
   "cell_type": "code",
   "execution_count": 13,
   "source": [
    "zoo_x.head()"
   ],
   "outputs": [
    {
     "output_type": "execute_result",
     "data": {
      "text/plain": [
       "  animal_name  hair  feathers  eggs  milk  airborne  aquatic  predator   \n",
       "0    aardvark     1         0     0     1         0        0         1  \\\n",
       "1    antelope     1         0     0     1         0        0         0   \n",
       "2        bass     0         0     1     0         0        1         1   \n",
       "3        bear     1         0     0     1         0        0         1   \n",
       "4        boar     1         0     0     1         0        0         1   \n",
       "\n",
       "   toothed  backbone  breathes  venomous  fins  legs  tail  domestic  catsize  \n",
       "0        1         1         1         0     0     4     0         0        1  \n",
       "1        1         1         1         0     0     4     1         0        1  \n",
       "2        1         1         0         0     1     0     1         0        0  \n",
       "3        1         1         1         0     0     4     0         0        1  \n",
       "4        1         1         1         0     0     4     1         0        1  "
      ],
      "text/html": [
       "<div>\n",
       "<style scoped>\n",
       "    .dataframe tbody tr th:only-of-type {\n",
       "        vertical-align: middle;\n",
       "    }\n",
       "\n",
       "    .dataframe tbody tr th {\n",
       "        vertical-align: top;\n",
       "    }\n",
       "\n",
       "    .dataframe thead th {\n",
       "        text-align: right;\n",
       "    }\n",
       "</style>\n",
       "<table border=\"1\" class=\"dataframe\">\n",
       "  <thead>\n",
       "    <tr style=\"text-align: right;\">\n",
       "      <th></th>\n",
       "      <th>animal_name</th>\n",
       "      <th>hair</th>\n",
       "      <th>feathers</th>\n",
       "      <th>eggs</th>\n",
       "      <th>milk</th>\n",
       "      <th>airborne</th>\n",
       "      <th>aquatic</th>\n",
       "      <th>predator</th>\n",
       "      <th>toothed</th>\n",
       "      <th>backbone</th>\n",
       "      <th>breathes</th>\n",
       "      <th>venomous</th>\n",
       "      <th>fins</th>\n",
       "      <th>legs</th>\n",
       "      <th>tail</th>\n",
       "      <th>domestic</th>\n",
       "      <th>catsize</th>\n",
       "    </tr>\n",
       "  </thead>\n",
       "  <tbody>\n",
       "    <tr>\n",
       "      <th>0</th>\n",
       "      <td>aardvark</td>\n",
       "      <td>1</td>\n",
       "      <td>0</td>\n",
       "      <td>0</td>\n",
       "      <td>1</td>\n",
       "      <td>0</td>\n",
       "      <td>0</td>\n",
       "      <td>1</td>\n",
       "      <td>1</td>\n",
       "      <td>1</td>\n",
       "      <td>1</td>\n",
       "      <td>0</td>\n",
       "      <td>0</td>\n",
       "      <td>4</td>\n",
       "      <td>0</td>\n",
       "      <td>0</td>\n",
       "      <td>1</td>\n",
       "    </tr>\n",
       "    <tr>\n",
       "      <th>1</th>\n",
       "      <td>antelope</td>\n",
       "      <td>1</td>\n",
       "      <td>0</td>\n",
       "      <td>0</td>\n",
       "      <td>1</td>\n",
       "      <td>0</td>\n",
       "      <td>0</td>\n",
       "      <td>0</td>\n",
       "      <td>1</td>\n",
       "      <td>1</td>\n",
       "      <td>1</td>\n",
       "      <td>0</td>\n",
       "      <td>0</td>\n",
       "      <td>4</td>\n",
       "      <td>1</td>\n",
       "      <td>0</td>\n",
       "      <td>1</td>\n",
       "    </tr>\n",
       "    <tr>\n",
       "      <th>2</th>\n",
       "      <td>bass</td>\n",
       "      <td>0</td>\n",
       "      <td>0</td>\n",
       "      <td>1</td>\n",
       "      <td>0</td>\n",
       "      <td>0</td>\n",
       "      <td>1</td>\n",
       "      <td>1</td>\n",
       "      <td>1</td>\n",
       "      <td>1</td>\n",
       "      <td>0</td>\n",
       "      <td>0</td>\n",
       "      <td>1</td>\n",
       "      <td>0</td>\n",
       "      <td>1</td>\n",
       "      <td>0</td>\n",
       "      <td>0</td>\n",
       "    </tr>\n",
       "    <tr>\n",
       "      <th>3</th>\n",
       "      <td>bear</td>\n",
       "      <td>1</td>\n",
       "      <td>0</td>\n",
       "      <td>0</td>\n",
       "      <td>1</td>\n",
       "      <td>0</td>\n",
       "      <td>0</td>\n",
       "      <td>1</td>\n",
       "      <td>1</td>\n",
       "      <td>1</td>\n",
       "      <td>1</td>\n",
       "      <td>0</td>\n",
       "      <td>0</td>\n",
       "      <td>4</td>\n",
       "      <td>0</td>\n",
       "      <td>0</td>\n",
       "      <td>1</td>\n",
       "    </tr>\n",
       "    <tr>\n",
       "      <th>4</th>\n",
       "      <td>boar</td>\n",
       "      <td>1</td>\n",
       "      <td>0</td>\n",
       "      <td>0</td>\n",
       "      <td>1</td>\n",
       "      <td>0</td>\n",
       "      <td>0</td>\n",
       "      <td>1</td>\n",
       "      <td>1</td>\n",
       "      <td>1</td>\n",
       "      <td>1</td>\n",
       "      <td>0</td>\n",
       "      <td>0</td>\n",
       "      <td>4</td>\n",
       "      <td>1</td>\n",
       "      <td>0</td>\n",
       "      <td>1</td>\n",
       "    </tr>\n",
       "  </tbody>\n",
       "</table>\n",
       "</div>"
      ]
     },
     "metadata": {},
     "execution_count": 13
    }
   ],
   "metadata": {}
  },
  {
   "cell_type": "code",
   "execution_count": 14,
   "source": [
    "zoo_y.head()"
   ],
   "outputs": [
    {
     "output_type": "execute_result",
     "data": {
      "text/plain": [
       "0    1\n",
       "1    1\n",
       "2    4\n",
       "3    1\n",
       "4    1\n",
       "Name: class_type, dtype: int64"
      ]
     },
     "metadata": {},
     "execution_count": 14
    }
   ],
   "metadata": {}
  },
  {
   "cell_type": "code",
   "execution_count": 15,
   "source": [
    "# create train/test sets\n",
    "X_tr, X_te, y_tr, y_te = train_test_split(zoo_x, zoo_y, test_size=0.3, random_state=82, stratify=zoo_y)"
   ],
   "outputs": [],
   "metadata": {}
  },
  {
   "cell_type": "code",
   "execution_count": 16,
   "source": [
    "name_train = X_tr['animal_name']\n",
    "name_test = X_te['animal_name']\n",
    "\n",
    "X_tr = X_tr.drop(columns = ['animal_name'])\n",
    "X_te = X_te.drop(columns = ['animal_name'])"
   ],
   "outputs": [],
   "metadata": {}
  },
  {
   "cell_type": "code",
   "execution_count": 17,
   "source": [
    "from sklearn.ensemble import RandomForestClassifier\n",
    "\n",
    "clf = RandomForestClassifier(n_estimators=3, random_state=10)\n",
    "clf.fit(X_tr, y_tr)\n",
    "\n",
    "# predict, so we can see accuracy before visualizing\n",
    "y_pred = clf.predict(X_te)"
   ],
   "outputs": [],
   "metadata": {}
  },
  {
   "cell_type": "code",
   "execution_count": 18,
   "source": [
    "from sklearn import metrics\n",
    "\n",
    "# check model accuracy\n",
    "print(\"Accuracy:\", round(metrics.accuracy_score(y_te, y_pred), 3))"
   ],
   "outputs": [
    {
     "output_type": "stream",
     "name": "stdout",
     "text": [
      "Accuracy: 0.968\n"
     ]
    }
   ],
   "metadata": {}
  },
  {
   "cell_type": "code",
   "execution_count": 19,
   "source": [
    "test_df = pd.DataFrame()\n",
    "test_df['Animal Name'] = name_test\n",
    "\n",
    "test_df['Actual'] = y_te\n",
    "test_df['Actual'] = test_df['Actual'].map(class_dict)\n",
    "\n",
    "test_df['Prediction'] = y_pred\n",
    "test_df['Prediction'] = test_df['Prediction'].map(class_dict)\n",
    "\n",
    "test_df['correct'] = test_df['Prediction'] == test_df['Actual']"
   ],
   "outputs": [],
   "metadata": {}
  },
  {
   "cell_type": "code",
   "execution_count": 20,
   "source": [
    "test_df.head()"
   ],
   "outputs": [
    {
     "output_type": "execute_result",
     "data": {
      "text/plain": [
       "   Animal Name   Actual Prediction  correct\n",
       "68    pussycat   Mammal     Mammal     True\n",
       "64     polecat   Mammal     Mammal     True\n",
       "4         boar   Mammal     Mammal     True\n",
       "29        girl   Mammal     Mammal     True\n",
       "62    pitviper  Reptile    Reptile     True"
      ],
      "text/html": [
       "<div>\n",
       "<style scoped>\n",
       "    .dataframe tbody tr th:only-of-type {\n",
       "        vertical-align: middle;\n",
       "    }\n",
       "\n",
       "    .dataframe tbody tr th {\n",
       "        vertical-align: top;\n",
       "    }\n",
       "\n",
       "    .dataframe thead th {\n",
       "        text-align: right;\n",
       "    }\n",
       "</style>\n",
       "<table border=\"1\" class=\"dataframe\">\n",
       "  <thead>\n",
       "    <tr style=\"text-align: right;\">\n",
       "      <th></th>\n",
       "      <th>Animal Name</th>\n",
       "      <th>Actual</th>\n",
       "      <th>Prediction</th>\n",
       "      <th>correct</th>\n",
       "    </tr>\n",
       "  </thead>\n",
       "  <tbody>\n",
       "    <tr>\n",
       "      <th>68</th>\n",
       "      <td>pussycat</td>\n",
       "      <td>Mammal</td>\n",
       "      <td>Mammal</td>\n",
       "      <td>True</td>\n",
       "    </tr>\n",
       "    <tr>\n",
       "      <th>64</th>\n",
       "      <td>polecat</td>\n",
       "      <td>Mammal</td>\n",
       "      <td>Mammal</td>\n",
       "      <td>True</td>\n",
       "    </tr>\n",
       "    <tr>\n",
       "      <th>4</th>\n",
       "      <td>boar</td>\n",
       "      <td>Mammal</td>\n",
       "      <td>Mammal</td>\n",
       "      <td>True</td>\n",
       "    </tr>\n",
       "    <tr>\n",
       "      <th>29</th>\n",
       "      <td>girl</td>\n",
       "      <td>Mammal</td>\n",
       "      <td>Mammal</td>\n",
       "      <td>True</td>\n",
       "    </tr>\n",
       "    <tr>\n",
       "      <th>62</th>\n",
       "      <td>pitviper</td>\n",
       "      <td>Reptile</td>\n",
       "      <td>Reptile</td>\n",
       "      <td>True</td>\n",
       "    </tr>\n",
       "  </tbody>\n",
       "</table>\n",
       "</div>"
      ]
     },
     "metadata": {},
     "execution_count": 20
    }
   ],
   "metadata": {}
  },
  {
   "cell_type": "code",
   "execution_count": 21,
   "source": [
    "\n",
    "test_df[test_df['correct'] == False]"
   ],
   "outputs": [
    {
     "output_type": "execute_result",
     "data": {
      "text/plain": [
       "   Animal Name Actual Prediction  correct\n",
       "30        gnat    Bug       Bird    False"
      ],
      "text/html": [
       "<div>\n",
       "<style scoped>\n",
       "    .dataframe tbody tr th:only-of-type {\n",
       "        vertical-align: middle;\n",
       "    }\n",
       "\n",
       "    .dataframe tbody tr th {\n",
       "        vertical-align: top;\n",
       "    }\n",
       "\n",
       "    .dataframe thead th {\n",
       "        text-align: right;\n",
       "    }\n",
       "</style>\n",
       "<table border=\"1\" class=\"dataframe\">\n",
       "  <thead>\n",
       "    <tr style=\"text-align: right;\">\n",
       "      <th></th>\n",
       "      <th>Animal Name</th>\n",
       "      <th>Actual</th>\n",
       "      <th>Prediction</th>\n",
       "      <th>correct</th>\n",
       "    </tr>\n",
       "  </thead>\n",
       "  <tbody>\n",
       "    <tr>\n",
       "      <th>30</th>\n",
       "      <td>gnat</td>\n",
       "      <td>Bug</td>\n",
       "      <td>Bird</td>\n",
       "      <td>False</td>\n",
       "    </tr>\n",
       "  </tbody>\n",
       "</table>\n",
       "</div>"
      ]
     },
     "metadata": {},
     "execution_count": 21
    }
   ],
   "metadata": {}
  },
  {
   "cell_type": "code",
   "execution_count": 22,
   "source": [
    "from sklearn.model_selection import GridSearchCV\n",
    "\n",
    "param_grid = {\n",
    "    \"n_estimators\": [10, 25, 50, 75, 100],\n",
    "    \"max_depth\": [5, 10, 15, 20]\n",
    "}\n",
    "\n",
    "grid = GridSearchCV(RandomForestClassifier(), param_grid, scoring='accuracy')\n",
    "\n",
    "grid.fit(X_tr, y_tr)\n",
    "\n",
    "grid.best_params_ "
   ],
   "outputs": [
    {
     "output_type": "stream",
     "name": "stderr",
     "text": [
      "/Library/Frameworks/Python.framework/Versions/3.10/lib/python3.10/site-packages/sklearn/model_selection/_split.py:700: UserWarning: The least populated class in y has only 3 members, which is less than n_splits=5.\n",
      "  warnings.warn(\n"
     ]
    },
    {
     "output_type": "execute_result",
     "data": {
      "text/plain": [
       "{'max_depth': 5, 'n_estimators': 25}"
      ]
     },
     "metadata": {},
     "execution_count": 22
    }
   ],
   "metadata": {}
  },
  {
   "cell_type": "code",
   "execution_count": 23,
   "source": [
    "# retrain with more estimators\n",
    "clf = RandomForestClassifier(n_estimators=20, max_depth= 5, random_state=82)\n",
    "clf.fit(X_tr, y_tr)\n",
    "\n",
    "y_pred = clf.predict(X_te)\n",
    "\n",
    "# check model accuracy\n",
    "print(\"Accuracy:\", round(metrics.accuracy_score(y_te, y_pred), 3))"
   ],
   "outputs": [
    {
     "output_type": "stream",
     "name": "stdout",
     "text": [
      "Accuracy: 1.0\n"
     ]
    }
   ],
   "metadata": {}
  },
  {
   "cell_type": "code",
   "execution_count": 24,
   "source": [
    "features = X_te.columns\n",
    "\n",
    "important = pd.Series(clf.feature_importances_, index=features).sort_values(ascending=False).to_frame(name='importance')\n",
    "\n",
    "important.reset_index(inplace=True)\n",
    "\n",
    "important"
   ],
   "outputs": [
    {
     "output_type": "execute_result",
     "data": {
      "text/plain": [
       "       index  importance\n",
       "0       milk    0.181581\n",
       "1       hair    0.130985\n",
       "2    toothed    0.099593\n",
       "3   backbone    0.091535\n",
       "4       fins    0.082688\n",
       "5   feathers    0.079168\n",
       "6       eggs    0.071910\n",
       "7       legs    0.069666\n",
       "8   breathes    0.050377\n",
       "9   airborne    0.038319\n",
       "10   aquatic    0.028025\n",
       "11      tail    0.026865\n",
       "12  predator    0.023245\n",
       "13  venomous    0.022145\n",
       "14   catsize    0.003559\n",
       "15  domestic    0.000339"
      ],
      "text/html": [
       "<div>\n",
       "<style scoped>\n",
       "    .dataframe tbody tr th:only-of-type {\n",
       "        vertical-align: middle;\n",
       "    }\n",
       "\n",
       "    .dataframe tbody tr th {\n",
       "        vertical-align: top;\n",
       "    }\n",
       "\n",
       "    .dataframe thead th {\n",
       "        text-align: right;\n",
       "    }\n",
       "</style>\n",
       "<table border=\"1\" class=\"dataframe\">\n",
       "  <thead>\n",
       "    <tr style=\"text-align: right;\">\n",
       "      <th></th>\n",
       "      <th>index</th>\n",
       "      <th>importance</th>\n",
       "    </tr>\n",
       "  </thead>\n",
       "  <tbody>\n",
       "    <tr>\n",
       "      <th>0</th>\n",
       "      <td>milk</td>\n",
       "      <td>0.181581</td>\n",
       "    </tr>\n",
       "    <tr>\n",
       "      <th>1</th>\n",
       "      <td>hair</td>\n",
       "      <td>0.130985</td>\n",
       "    </tr>\n",
       "    <tr>\n",
       "      <th>2</th>\n",
       "      <td>toothed</td>\n",
       "      <td>0.099593</td>\n",
       "    </tr>\n",
       "    <tr>\n",
       "      <th>3</th>\n",
       "      <td>backbone</td>\n",
       "      <td>0.091535</td>\n",
       "    </tr>\n",
       "    <tr>\n",
       "      <th>4</th>\n",
       "      <td>fins</td>\n",
       "      <td>0.082688</td>\n",
       "    </tr>\n",
       "    <tr>\n",
       "      <th>5</th>\n",
       "      <td>feathers</td>\n",
       "      <td>0.079168</td>\n",
       "    </tr>\n",
       "    <tr>\n",
       "      <th>6</th>\n",
       "      <td>eggs</td>\n",
       "      <td>0.071910</td>\n",
       "    </tr>\n",
       "    <tr>\n",
       "      <th>7</th>\n",
       "      <td>legs</td>\n",
       "      <td>0.069666</td>\n",
       "    </tr>\n",
       "    <tr>\n",
       "      <th>8</th>\n",
       "      <td>breathes</td>\n",
       "      <td>0.050377</td>\n",
       "    </tr>\n",
       "    <tr>\n",
       "      <th>9</th>\n",
       "      <td>airborne</td>\n",
       "      <td>0.038319</td>\n",
       "    </tr>\n",
       "    <tr>\n",
       "      <th>10</th>\n",
       "      <td>aquatic</td>\n",
       "      <td>0.028025</td>\n",
       "    </tr>\n",
       "    <tr>\n",
       "      <th>11</th>\n",
       "      <td>tail</td>\n",
       "      <td>0.026865</td>\n",
       "    </tr>\n",
       "    <tr>\n",
       "      <th>12</th>\n",
       "      <td>predator</td>\n",
       "      <td>0.023245</td>\n",
       "    </tr>\n",
       "    <tr>\n",
       "      <th>13</th>\n",
       "      <td>venomous</td>\n",
       "      <td>0.022145</td>\n",
       "    </tr>\n",
       "    <tr>\n",
       "      <th>14</th>\n",
       "      <td>catsize</td>\n",
       "      <td>0.003559</td>\n",
       "    </tr>\n",
       "    <tr>\n",
       "      <th>15</th>\n",
       "      <td>domestic</td>\n",
       "      <td>0.000339</td>\n",
       "    </tr>\n",
       "  </tbody>\n",
       "</table>\n",
       "</div>"
      ]
     },
     "metadata": {},
     "execution_count": 24
    }
   ],
   "metadata": {}
  },
  {
   "cell_type": "code",
   "execution_count": 25,
   "source": [
    "def predict_animal(Legs, Hair, Feathers, Eggs, Milk, Airborne, Aquatic, Predator, Toothed, Backbone, Breathes, Venomous, Fins, Tail, Domestic, Catsize):\n",
    "    hair = 1 if Hair else 0\n",
    "    feathers = 1 if Feathers else 0 \n",
    "    eggs = 1 if Eggs else 0\n",
    "    milk =  1 if Milk else 0\n",
    "    airborne = 1 if Airborne else 0 \n",
    "    aquatic = 1 if Aquatic else 0 \n",
    "    predator = 1 if Predator else 0 \n",
    "    toothed = 1 if Toothed else 0\n",
    "    backbone = 1 if Backbone else 0 \n",
    "    breathes = 1 if Breathes else 0 \n",
    "    venomous = 1 if Venomous else 0\n",
    "    fins = 1 if Fins else 0 \n",
    "    legs = Legs\n",
    "    tail = 1 if Tail else 0 \n",
    "    domestic = 1 if Domestic else 0 \n",
    "    catsize = 1 if Catsize else 0 \n",
    "\n",
    "    new_data = [[hair, feathers, eggs, milk, airborne, aquatic, predator,\n",
    "                 toothed, backbone, breathes, venomous, fins, legs, tail,\n",
    "                 domestic, catsize]]  \n",
    "    \n",
    "    prediction = clf.predict(new_data)\n",
    "\n",
    "    predicted_class = class_dict.get(prediction[0])\n",
    "\n",
    "    return predicted_class"
   ],
   "outputs": [],
   "metadata": {}
  },
  {
   "cell_type": "code",
   "execution_count": 26,
   "source": [
    "import gradio as gr\n",
    "\n",
    "demo = gr.Interface(\n",
    "    fn = predict_animal,\n",
    "    inputs=[\"number\", \"checkbox\", \"checkbox\", \"checkbox\", \"checkbox\", \"checkbox\", \"checkbox\", \"checkbox\", \"checkbox\", \n",
    "            \"checkbox\", \"checkbox\", \"checkbox\", \"checkbox\", \"checkbox\", \"checkbox\", \"checkbox\"],\n",
    "    outputs=[\"text\"]\n",
    ")\n",
    "\n",
    "demo.launch()"
   ],
   "outputs": [
    {
     "output_type": "stream",
     "name": "stderr",
     "text": [
      "/Library/Frameworks/Python.framework/Versions/3.10/lib/python3.10/site-packages/tqdm/auto.py:21: TqdmWarning: IProgress not found. Please update jupyter and ipywidgets. See https://ipywidgets.readthedocs.io/en/stable/user_install.html\n",
      "  from .autonotebook import tqdm as notebook_tqdm\n"
     ]
    },
    {
     "output_type": "stream",
     "name": "stdout",
     "text": [
      "Running on local URL:  http://127.0.0.1:7860\n",
      "\n",
      "To create a public link, set `share=True` in `launch()`.\n"
     ]
    },
    {
     "output_type": "display_data",
     "data": {
      "text/plain": [
       "<IPython.core.display.HTML object>"
      ],
      "text/html": [
       "<div><iframe src=\"http://127.0.0.1:7860/\" width=\"100%\" height=\"500\" allow=\"autoplay; camera; microphone; clipboard-read; clipboard-write;\" frameborder=\"0\" allowfullscreen></iframe></div>"
      ]
     },
     "metadata": {}
    },
    {
     "output_type": "execute_result",
     "data": {
      "text/plain": []
     },
     "metadata": {},
     "execution_count": 26
    }
   ],
   "metadata": {}
  },
  {
   "cell_type": "code",
   "execution_count": 27,
   "source": [
    "import joblib\n",
    "\n",
    "joblib.dump(clf, 'rf_full.joblib')"
   ],
   "outputs": [
    {
     "output_type": "execute_result",
     "data": {
      "text/plain": [
       "['rf_full.joblib']"
      ]
     },
     "metadata": {},
     "execution_count": 27
    }
   ],
   "metadata": {}
  },
  {
   "cell_type": "code",
   "execution_count": null,
   "source": [],
   "outputs": [],
   "metadata": {}
  }
 ],
 "metadata": {
  "orig_nbformat": 4,
  "language_info": {
   "name": "python",
   "version": "3.10.1",
   "mimetype": "text/x-python",
   "codemirror_mode": {
    "name": "ipython",
    "version": 3
   },
   "pygments_lexer": "ipython3",
   "nbconvert_exporter": "python",
   "file_extension": ".py"
  },
  "kernelspec": {
   "name": "python3",
   "display_name": "Python 3.10.1 64-bit"
  },
  "interpreter": {
   "hash": "aee8b7b246df8f9039afb4144a1f6fd8d2ca17a180786b69acc140d282b71a49"
  }
 },
 "nbformat": 4,
 "nbformat_minor": 2
}